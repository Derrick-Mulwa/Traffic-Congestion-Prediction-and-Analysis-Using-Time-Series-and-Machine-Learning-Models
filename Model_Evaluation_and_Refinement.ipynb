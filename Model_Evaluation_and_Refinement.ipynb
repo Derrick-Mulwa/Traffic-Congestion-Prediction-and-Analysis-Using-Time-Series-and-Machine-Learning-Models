{
 "cells": [
  {
   "cell_type": "code",
   "execution_count": 1,
   "id": "165b462d-17d8-429f-83e0-ebacc37ea709",
   "metadata": {},
   "outputs": [],
   "source": [
    "import pandas as pd\n",
    "import numpy as np\n",
    "from sklearn.model_selection import train_test_split, TimeSeriesSplit\n",
    "from sklearn.metrics import mean_absolute_error, mean_squared_error\n",
    "from statsmodels.tsa.arima.model import ARIMA\n",
    "import itertools\n",
    "from keras.models import Sequential\n",
    "from keras.layers import LSTM, Dense\n",
    "from keras.wrappers.scikit_learn import KerasRegressor\n",
    "from sklearn.model_selection import GridSearchCV\n",
    "import matplotlib.pyplot as plt\n",
    "import seaborn as sns\n",
    "import xgboost as xgb\n",
    "from xgboost import XGBRegressor\n",
    "from sklearn.ensemble import RandomForestRegressor\n",
    "import warnings"
   ]
  },
  {
   "cell_type": "code",
   "execution_count": 2,
   "id": "bf2c7d35-fa7c-41fa-98a7-6ebd7195aa60",
   "metadata": {},
   "outputs": [],
   "source": [
    "warnings.filterwarnings(\"ignore\")"
   ]
  },
  {
   "cell_type": "markdown",
   "id": "83e80ca3-e717-418f-bac3-e87d49faa77a",
   "metadata": {},
   "source": [
    "Lets read in our dataset"
   ]
  },
  {
   "cell_type": "code",
   "execution_count": 3,
   "id": "b4e80d76-6179-4f9c-9693-68863df6bea5",
   "metadata": {},
   "outputs": [
    {
     "data": {
      "text/html": [
       "<div>\n",
       "<style scoped>\n",
       "    .dataframe tbody tr th:only-of-type {\n",
       "        vertical-align: middle;\n",
       "    }\n",
       "\n",
       "    .dataframe tbody tr th {\n",
       "        vertical-align: top;\n",
       "    }\n",
       "\n",
       "    .dataframe thead th {\n",
       "        text-align: right;\n",
       "    }\n",
       "</style>\n",
       "<table border=\"1\" class=\"dataframe\">\n",
       "  <thead>\n",
       "    <tr style=\"text-align: right;\">\n",
       "      <th></th>\n",
       "      <th>DateTime</th>\n",
       "      <th>Junction</th>\n",
       "      <th>Vehicles</th>\n",
       "      <th>Hour</th>\n",
       "      <th>Vehicles_previous_hour</th>\n",
       "      <th>Vehicles_previous_2hours</th>\n",
       "      <th>Vehicles_previous_3hours</th>\n",
       "      <th>Vehicles_previous_4hours</th>\n",
       "      <th>Vehicles_previous_5hours</th>\n",
       "      <th>Vehicles_previous_6hours</th>\n",
       "      <th>Vehicles_previous_12hours</th>\n",
       "      <th>Vehicles_previous_day</th>\n",
       "      <th>tempC</th>\n",
       "      <th>precipMM</th>\n",
       "      <th>humidity</th>\n",
       "      <th>windspeedKmph</th>\n",
       "      <th>Event_Name</th>\n",
       "      <th>Event_Type</th>\n",
       "    </tr>\n",
       "  </thead>\n",
       "  <tbody>\n",
       "    <tr>\n",
       "      <th>0</th>\n",
       "      <td>2015-11-01 00:00:00</td>\n",
       "      <td>1</td>\n",
       "      <td>0.083333</td>\n",
       "      <td>0</td>\n",
       "      <td>0.000000</td>\n",
       "      <td>0.0</td>\n",
       "      <td>0.0</td>\n",
       "      <td>0.0</td>\n",
       "      <td>0.0</td>\n",
       "      <td>0.0</td>\n",
       "      <td>0.0</td>\n",
       "      <td>0.0</td>\n",
       "      <td>0.296296</td>\n",
       "      <td>0.0</td>\n",
       "      <td>0.923077</td>\n",
       "      <td>0.205128</td>\n",
       "      <td>No events</td>\n",
       "      <td>No events</td>\n",
       "    </tr>\n",
       "    <tr>\n",
       "      <th>1</th>\n",
       "      <td>2015-11-01 00:00:00</td>\n",
       "      <td>2</td>\n",
       "      <td>0.033333</td>\n",
       "      <td>0</td>\n",
       "      <td>0.000000</td>\n",
       "      <td>0.0</td>\n",
       "      <td>0.0</td>\n",
       "      <td>0.0</td>\n",
       "      <td>0.0</td>\n",
       "      <td>0.0</td>\n",
       "      <td>0.0</td>\n",
       "      <td>0.0</td>\n",
       "      <td>0.296296</td>\n",
       "      <td>0.0</td>\n",
       "      <td>0.923077</td>\n",
       "      <td>0.205128</td>\n",
       "      <td>No events</td>\n",
       "      <td>No events</td>\n",
       "    </tr>\n",
       "    <tr>\n",
       "      <th>2</th>\n",
       "      <td>2015-11-01 00:00:00</td>\n",
       "      <td>3</td>\n",
       "      <td>0.050000</td>\n",
       "      <td>0</td>\n",
       "      <td>0.000000</td>\n",
       "      <td>0.0</td>\n",
       "      <td>0.0</td>\n",
       "      <td>0.0</td>\n",
       "      <td>0.0</td>\n",
       "      <td>0.0</td>\n",
       "      <td>0.0</td>\n",
       "      <td>0.0</td>\n",
       "      <td>0.296296</td>\n",
       "      <td>0.0</td>\n",
       "      <td>0.923077</td>\n",
       "      <td>0.205128</td>\n",
       "      <td>No events</td>\n",
       "      <td>No events</td>\n",
       "    </tr>\n",
       "    <tr>\n",
       "      <th>3</th>\n",
       "      <td>2015-11-01 00:00:00</td>\n",
       "      <td>4</td>\n",
       "      <td>0.000000</td>\n",
       "      <td>0</td>\n",
       "      <td>0.000000</td>\n",
       "      <td>0.0</td>\n",
       "      <td>0.0</td>\n",
       "      <td>0.0</td>\n",
       "      <td>0.0</td>\n",
       "      <td>0.0</td>\n",
       "      <td>0.0</td>\n",
       "      <td>0.0</td>\n",
       "      <td>0.296296</td>\n",
       "      <td>0.0</td>\n",
       "      <td>0.923077</td>\n",
       "      <td>0.205128</td>\n",
       "      <td>No events</td>\n",
       "      <td>No events</td>\n",
       "    </tr>\n",
       "    <tr>\n",
       "      <th>4</th>\n",
       "      <td>2015-11-01 01:00:00</td>\n",
       "      <td>1</td>\n",
       "      <td>0.072222</td>\n",
       "      <td>1</td>\n",
       "      <td>0.083333</td>\n",
       "      <td>0.0</td>\n",
       "      <td>0.0</td>\n",
       "      <td>0.0</td>\n",
       "      <td>0.0</td>\n",
       "      <td>0.0</td>\n",
       "      <td>0.0</td>\n",
       "      <td>0.0</td>\n",
       "      <td>0.296296</td>\n",
       "      <td>0.0</td>\n",
       "      <td>0.934066</td>\n",
       "      <td>0.205128</td>\n",
       "      <td>No events</td>\n",
       "      <td>No events</td>\n",
       "    </tr>\n",
       "  </tbody>\n",
       "</table>\n",
       "</div>"
      ],
      "text/plain": [
       "             DateTime  Junction  Vehicles  Hour  Vehicles_previous_hour  \\\n",
       "0 2015-11-01 00:00:00         1  0.083333     0                0.000000   \n",
       "1 2015-11-01 00:00:00         2  0.033333     0                0.000000   \n",
       "2 2015-11-01 00:00:00         3  0.050000     0                0.000000   \n",
       "3 2015-11-01 00:00:00         4  0.000000     0                0.000000   \n",
       "4 2015-11-01 01:00:00         1  0.072222     1                0.083333   \n",
       "\n",
       "   Vehicles_previous_2hours  Vehicles_previous_3hours  \\\n",
       "0                       0.0                       0.0   \n",
       "1                       0.0                       0.0   \n",
       "2                       0.0                       0.0   \n",
       "3                       0.0                       0.0   \n",
       "4                       0.0                       0.0   \n",
       "\n",
       "   Vehicles_previous_4hours  Vehicles_previous_5hours  \\\n",
       "0                       0.0                       0.0   \n",
       "1                       0.0                       0.0   \n",
       "2                       0.0                       0.0   \n",
       "3                       0.0                       0.0   \n",
       "4                       0.0                       0.0   \n",
       "\n",
       "   Vehicles_previous_6hours  Vehicles_previous_12hours  Vehicles_previous_day  \\\n",
       "0                       0.0                        0.0                    0.0   \n",
       "1                       0.0                        0.0                    0.0   \n",
       "2                       0.0                        0.0                    0.0   \n",
       "3                       0.0                        0.0                    0.0   \n",
       "4                       0.0                        0.0                    0.0   \n",
       "\n",
       "      tempC  precipMM  humidity  windspeedKmph Event_Name Event_Type  \n",
       "0  0.296296       0.0  0.923077       0.205128  No events  No events  \n",
       "1  0.296296       0.0  0.923077       0.205128  No events  No events  \n",
       "2  0.296296       0.0  0.923077       0.205128  No events  No events  \n",
       "3  0.296296       0.0  0.923077       0.205128  No events  No events  \n",
       "4  0.296296       0.0  0.934066       0.205128  No events  No events  "
      ]
     },
     "execution_count": 3,
     "metadata": {},
     "output_type": "execute_result"
    }
   ],
   "source": [
    "df = pd.read_csv('merged.csv', index_col = 0)\n",
    "df.DateTime = pd.to_datetime(df.DateTime)\n",
    "df.head()"
   ]
  },
  {
   "cell_type": "code",
   "execution_count": 4,
   "id": "18862701-7d53-42c2-9c4b-d3d873865c5e",
   "metadata": {},
   "outputs": [
    {
     "name": "stdout",
     "output_type": "stream",
     "text": [
      "<class 'pandas.core.frame.DataFrame'>\n",
      "Index: 58368 entries, 0 to 58367\n",
      "Data columns (total 18 columns):\n",
      " #   Column                     Non-Null Count  Dtype         \n",
      "---  ------                     --------------  -----         \n",
      " 0   DateTime                   58368 non-null  datetime64[ns]\n",
      " 1   Junction                   58368 non-null  int64         \n",
      " 2   Vehicles                   58368 non-null  float64       \n",
      " 3   Hour                       58368 non-null  int64         \n",
      " 4   Vehicles_previous_hour     58368 non-null  float64       \n",
      " 5   Vehicles_previous_2hours   58368 non-null  float64       \n",
      " 6   Vehicles_previous_3hours   58368 non-null  float64       \n",
      " 7   Vehicles_previous_4hours   58368 non-null  float64       \n",
      " 8   Vehicles_previous_5hours   58368 non-null  float64       \n",
      " 9   Vehicles_previous_6hours   58368 non-null  float64       \n",
      " 10  Vehicles_previous_12hours  58368 non-null  float64       \n",
      " 11  Vehicles_previous_day      58368 non-null  float64       \n",
      " 12  tempC                      58368 non-null  float64       \n",
      " 13  precipMM                   58368 non-null  float64       \n",
      " 14  humidity                   58368 non-null  float64       \n",
      " 15  windspeedKmph              58368 non-null  float64       \n",
      " 16  Event_Name                 58368 non-null  object        \n",
      " 17  Event_Type                 58368 non-null  object        \n",
      "dtypes: datetime64[ns](1), float64(13), int64(2), object(2)\n",
      "memory usage: 8.5+ MB\n"
     ]
    }
   ],
   "source": [
    "df.info()"
   ]
  },
  {
   "cell_type": "markdown",
   "id": "eeb8c306-69d6-4053-9251-0f82d8ac3eb0",
   "metadata": {},
   "source": [
    "Let split our data into training data and testing data. We should ensure that the data is not shuffled, which is crucial in preserving the sequence of events."
   ]
  },
  {
   "cell_type": "code",
   "execution_count": 5,
   "id": "d1a4f783-e24f-4991-9c1e-42839a611756",
   "metadata": {},
   "outputs": [],
   "source": [
    "train_data, test_data = train_test_split(df, test_size=0.2, shuffle=False)"
   ]
  },
  {
   "cell_type": "markdown",
   "id": "61b0dc63-4c9c-471a-ba4d-1492a3bbc7bc",
   "metadata": {},
   "source": [
    "LSTMs (Long Short-Term Memory networks) are specifically designed to handle sequential data and time series data effectively. They can capture long-term dependencies and patterns in our data, which is crucial for predicting traffic congestion that might depend on previous time steps.\n",
    "\n",
    "LSTMs are capable of modeling complex non-linear relationships in our data. Traffic congestion can be influenced by various non-linear factors such as weather conditions, special events, and time of day. LSTMs can capture these intricate patterns better than linear models like ARIMA. \n",
    "\n",
    "ARIMA is a linear model, which makes it less capable of capturing complex non-linear relationships in the data. Traffic congestion can be influenced by non-linear factors like varying weather conditions, special events, and unpredictable traffic patterns, which ARIMA might not model well. While ARIMA is good at capturing short-term dependencies in time series data, it might not capture long-term dependencies as effectively as LSTMs.\n",
    "\n",
    "\n",
    "We will use an ARIMA and LSTM model to forecast traffic congestion using our data and compare the two models."
   ]
  },
  {
   "cell_type": "markdown",
   "id": "36f1c176-fcae-4f66-8074-2a57f255e345",
   "metadata": {},
   "source": [
    "Lets begin with the ARIMA model. Lets define the p, d, q parameters to take any value between 0 and 2"
   ]
  },
  {
   "cell_type": "code",
   "execution_count": 6,
   "id": "3edfbf3b-7352-4e99-b988-48e7adc73852",
   "metadata": {},
   "outputs": [],
   "source": [
    "p = d = q = range(0, 3)\n",
    "pdq = list(itertools.product(p, d, q))"
   ]
  },
  {
   "cell_type": "markdown",
   "id": "71b54ab6-b6a6-4260-a74c-7f2fba592d08",
   "metadata": {},
   "source": [
    "Grid Search for ARIMA hyperparameters"
   ]
  },
  {
   "cell_type": "code",
   "execution_count": 7,
   "id": "68e5eb0b-018d-421a-86c7-1780a76c8a17",
   "metadata": {},
   "outputs": [
    {
     "name": "stdout",
     "output_type": "stream",
     "text": [
      "Best order: (1, 0, 2) || AIC: -119233.52056194498\n"
     ]
    }
   ],
   "source": [
    "best_aic = float(\"inf\")\n",
    "best_order = None\n",
    "\n",
    "for param in pdq:\n",
    "    try:\n",
    "        temp_model = ARIMA(train_data['Vehicles'], order=param)\n",
    "        temp_model_fit = temp_model.fit()\n",
    "        if temp_model_fit.aic < best_aic:\n",
    "            best_aic = temp_model_fit.aic\n",
    "            best_order = param\n",
    "    except:\n",
    "        continue\n",
    "        print('Except')\n",
    "\n",
    "print(f'Best order: {best_order} || AIC: {best_aic}')"
   ]
  },
  {
   "cell_type": "markdown",
   "id": "519001ef-ec62-4d7f-8b3f-a05cb5d9a2d4",
   "metadata": {},
   "source": [
    "Train the best ARIMA model"
   ]
  },
  {
   "cell_type": "code",
   "execution_count": 8,
   "id": "808a5823-78f4-4b17-a823-a7833c486c74",
   "metadata": {},
   "outputs": [],
   "source": [
    "final_arima_model = ARIMA(train_data['Vehicles'], order=best_order)\n",
    "final_arima_model_fit = final_arima_model.fit()"
   ]
  },
  {
   "cell_type": "markdown",
   "id": "6723bf7c-1903-4e04-9a1d-645c192dbf98",
   "metadata": {},
   "source": [
    "Lets forecast with the ARIMA model"
   ]
  },
  {
   "cell_type": "code",
   "execution_count": 9,
   "id": "337b5d69-762a-4d9d-afff-6a405d4e113a",
   "metadata": {},
   "outputs": [],
   "source": [
    "arima_forecast = final_arima_model_fit.forecast(steps=len(test_data))"
   ]
  },
  {
   "cell_type": "markdown",
   "id": "34a23386-536e-4fe3-9470-e92aee0ef812",
   "metadata": {},
   "source": [
    "LSTM model"
   ]
  },
  {
   "cell_type": "markdown",
   "id": "d5d9c164-eba8-48fc-958e-85bdc1ff8fb2",
   "metadata": {},
   "source": [
    "Lets use grid search to find the optimal configuration for the LSTM model."
   ]
  },
  {
   "cell_type": "markdown",
   "id": "c5faa969-b667-4969-8d98-526b842d1c6a",
   "metadata": {},
   "source": [
    "Data preperation for LSTM"
   ]
  },
  {
   "cell_type": "code",
   "execution_count": 10,
   "id": "95ccaa72-e7d6-4219-912c-4b717e21e02d",
   "metadata": {},
   "outputs": [],
   "source": [
    "X_train = train_data[['Vehicles_previous_hour', 'Vehicles_previous_2hours', 'Vehicles_previous_3hours', 'Vehicles_previous_4hours', 'Vehicles_previous_5hours', 'Vehicles_previous_6hours', 'Vehicles_previous_12hours', 'Vehicles_previous_day', 'tempC', 'precipMM', 'humidity', 'windspeedKmph']].values\n",
    "y_train = train_data['Vehicles'].values\n",
    "X_train = X_train.reshape((X_train.shape[0], 1, X_train.shape[1]))\n",
    "\n",
    "X_test = test_data[['Vehicles_previous_hour', 'Vehicles_previous_2hours', 'Vehicles_previous_3hours', 'Vehicles_previous_4hours', 'Vehicles_previous_5hours', 'Vehicles_previous_6hours', 'Vehicles_previous_12hours', 'Vehicles_previous_day', 'tempC', 'precipMM', 'humidity', 'windspeedKmph']].values\n",
    "y_test = test_data['Vehicles'].values\n",
    "X_test = X_test.reshape((X_test.shape[0], 1, X_test.shape[1]))"
   ]
  },
  {
   "cell_type": "markdown",
   "id": "c5674bd6-e20f-45aa-a733-9bf3cc31db03",
   "metadata": {},
   "source": [
    "Lets define LSTM model creation function"
   ]
  },
  {
   "cell_type": "code",
   "execution_count": 11,
   "id": "547efb01-fd45-46b2-9f4e-6a3188e0042f",
   "metadata": {},
   "outputs": [],
   "source": [
    "def create_lstm_model(units=50):\n",
    "    model = Sequential()\n",
    "    model.add(LSTM(units=units, activation='relu', input_shape=(X_train.shape[1], X_train.shape[2])))\n",
    "    model.add(Dense(1))\n",
    "    model.compile(optimizer='adam', loss='mse')\n",
    "    return model"
   ]
  },
  {
   "cell_type": "markdown",
   "id": "e27cebde-318b-435f-99be-a0420e195d61",
   "metadata": {},
   "source": [
    "Keras Regressor for LSTM"
   ]
  },
  {
   "cell_type": "code",
   "execution_count": 12,
   "id": "6ebca077-c87f-41c3-962e-6c802e5257b7",
   "metadata": {},
   "outputs": [],
   "source": [
    "model = KerasRegressor(build_fn=create_lstm_model, verbose=0)"
   ]
  },
  {
   "cell_type": "markdown",
   "id": "ba16aa09-7b3a-4f4e-a433-5549cfdb2397",
   "metadata": {},
   "source": [
    "Grid Search for LSTM hyperparameters"
   ]
  },
  {
   "cell_type": "code",
   "execution_count": 13,
   "id": "b0d5f06f-01c0-432a-b1eb-540d023cf90e",
   "metadata": {},
   "outputs": [],
   "source": [
    "param_grid = {\n",
    "    'units': [50, 100, 150],\n",
    "    'batch_size': [32, 64, 128],\n",
    "    'epochs': [10, 50, 100]\n",
    "}\n",
    "\n",
    "grid = GridSearchCV(estimator=model, param_grid=param_grid, scoring='neg_mean_squared_error', cv=3)\n",
    "grid_result = grid.fit(X_train, y_train)"
   ]
  },
  {
   "cell_type": "markdown",
   "id": "eb16a112-e8db-425a-8bca-98416f37bd2a",
   "metadata": {},
   "source": [
    "Best hyperparameters for LSTM"
   ]
  },
  {
   "cell_type": "code",
   "execution_count": null,
   "id": "5b966089-7106-44be-bfef-8dc2b790b3f8",
   "metadata": {},
   "outputs": [],
   "source": [
    "best_params = grid_result.best_params_\n",
    "print(f'Best LSTM params: {best_params}')"
   ]
  },
  {
   "cell_type": "markdown",
   "id": "ac38ecab-c3e9-42cc-afcb-a10a678015b2",
   "metadata": {},
   "source": [
    "Create and train the final LSTM model"
   ]
  },
  {
   "cell_type": "code",
   "execution_count": 15,
   "id": "867312c2-849b-4bb4-a0f9-a76cf28c1a29",
   "metadata": {},
   "outputs": [
    {
     "data": {
      "text/plain": [
       "<keras.callbacks.History at 0x12327eedd10>"
      ]
     },
     "execution_count": 15,
     "metadata": {},
     "output_type": "execute_result"
    }
   ],
   "source": [
    "final_lstm_model = create_lstm_model(units=best_params['units'])\n",
    "final_lstm_model.fit(X_train, y_train, epochs=best_params['epochs'], batch_size=best_params['batch_size'], verbose=0, validation_data=(X_test, y_test))"
   ]
  },
  {
   "cell_type": "markdown",
   "id": "df854265-f011-4c51-af68-7c60fb4f5d16",
   "metadata": {},
   "source": [
    "Predict with LSTM"
   ]
  },
  {
   "cell_type": "code",
   "execution_count": 16,
   "id": "b2bce4b0-4271-49c7-98dd-b30f6dad246f",
   "metadata": {},
   "outputs": [
    {
     "name": "stdout",
     "output_type": "stream",
     "text": [
      "365/365 [==============================] - 1s 2ms/step\n"
     ]
    }
   ],
   "source": [
    "lstm_predictions = final_lstm_model.predict(X_test)\n",
    "lstm_predictions = pd.Series([i[0] for i in lstm_predictions.tolist()], index = test_data.index)"
   ]
  },
  {
   "cell_type": "markdown",
   "id": "1152b3db-32bc-4951-a629-f2fddce22eef",
   "metadata": {},
   "source": [
    "Lets evaluate the models"
   ]
  },
  {
   "cell_type": "code",
   "execution_count": 17,
   "id": "0e3004fa-c96a-4026-9efd-4998a4d76bb8",
   "metadata": {},
   "outputs": [
    {
     "name": "stdout",
     "output_type": "stream",
     "text": [
      "ARIMA MAE: 0.10593116221037163, RMSE: 0.16370842274637812\n",
      "LSTM MAE: 0.01693246693513671, RMSE: 0.025762683358332095\n"
     ]
    }
   ],
   "source": [
    "# Evaluation metrics for ARIMA\n",
    "mae_arima = mean_absolute_error(test_data['Vehicles'], arima_forecast)\n",
    "rmse_arima = np.sqrt(mean_squared_error(test_data['Vehicles'], arima_forecast))\n",
    "\n",
    "# Evaluation metrics for LSTM\n",
    "mae_lstm = mean_absolute_error(y_test, lstm_predictions)\n",
    "rmse_lstm = np.sqrt(mean_squared_error(y_test, lstm_predictions))\n",
    "\n",
    "print(f'ARIMA MAE: {mae_arima}, RMSE: {rmse_arima}')\n",
    "print(f'LSTM MAE: {mae_lstm}, RMSE: {rmse_lstm}')"
   ]
  },
  {
   "cell_type": "markdown",
   "id": "a9968ae5-0493-4576-b5c5-af025e3bbce3",
   "metadata": {},
   "source": [
    "The LSTM model has a significantly lower MAE, indicating that its predictions are, on average, only 0.016 units off from the actual values. This reflects a higher accuracy compared to ARIMA. The RMSE for the LSTM model is also much lower, suggesting that it has a smaller and more concentrated error distribution compared to ARIMA.\n",
    "\n",
    "The LSTM model outperforms the ARIMA model in both MAE and RMSE, indicating that it provides more accurate predictions with less deviation from the actual values.\n",
    "\n",
    "The lower MAE and RMSE of the LSTM model suggest it captures the patterns in the data more effectively than the ARIMA model, making it a better choice for this forecasting task.\n",
    "\n",
    "Lets visualize the models' predictions"
   ]
  },
  {
   "cell_type": "markdown",
   "id": "bb83b092-f444-4c96-b2a7-97742237fb6a",
   "metadata": {},
   "source": [
    "Prediction vs. Actual Plots"
   ]
  },
  {
   "cell_type": "code",
   "execution_count": 18,
   "id": "9f4c24cc-3453-484f-a04d-a26132262cdc",
   "metadata": {},
   "outputs": [
    {
     "data": {
      "image/png": "[encoded data removed]",
      "text/plain": [
       "<Figure size 1400x700 with 2 Axes>"
      ]
     },
     "metadata": {},
     "output_type": "display_data"
    }
   ],
   "source": [
    "plt.figure(figsize=(14, 7))\n",
    "\n",
    "# For ARIMA\n",
    "plt.subplot(1, 2, 1)\n",
    "plt.plot(test_data.DateTime, test_data['Vehicles'], label='Actual', color='blue')\n",
    "plt.plot(test_data.DateTime, arima_forecast, label='Predicted', color='red')\n",
    "plt.title('ARIMA: Actual vs. Predicted')\n",
    "plt.xlabel('DateTime')\n",
    "plt.ylabel('Vehicles')\n",
    "plt.legend()\n",
    "\n",
    "# For LSTM\n",
    "plt.subplot(1, 2, 2)\n",
    "plt.plot(test_data.DateTime[-len(y_test):], y_test, label='Actual', color='blue')\n",
    "plt.plot(test_data.DateTime[-len(y_test):], lstm_predictions, label='Predicted', color='red')\n",
    "plt.title('LSTM: Actual vs. Predicted')\n",
    "plt.xlabel('DateTime')\n",
    "plt.ylabel('Vehicles')\n",
    "plt.legend()\n",
    "\n",
    "plt.tight_layout()\n",
    "plt.show()\n"
   ]
  },
  {
   "cell_type": "markdown",
   "id": "53d7f62b-742f-431f-8b9a-28888dff0f2a",
   "metadata": {},
   "source": [
    "Residual Plots"
   ]
  },
  {
   "cell_type": "code",
   "execution_count": 19,
   "id": "aaab2413-1d8d-45e3-8780-bf28e7f8f045",
   "metadata": {},
   "outputs": [
    {
     "data": {
      "image/png": "[encoded data removed]",
      "text/plain": [
       "<Figure size 1400x700 with 2 Axes>"
      ]
     },
     "metadata": {},
     "output_type": "display_data"
    }
   ],
   "source": [
    "# For ARIMA\n",
    "residuals_arima = test_data['Vehicles'] - arima_forecast\n",
    "\n",
    "plt.figure(figsize=(14, 7))\n",
    "\n",
    "plt.subplot(1, 2, 1)\n",
    "plt.plot(test_data.DateTime, residuals_arima, label='Residuals')\n",
    "plt.title('ARIMA Residuals')\n",
    "plt.xlabel('DateTime')\n",
    "plt.ylabel('Residual')\n",
    "plt.legend()\n",
    "\n",
    "# For LSTM\n",
    "residuals_lstm = y_test - lstm_predictions\n",
    "\n",
    "plt.subplot(1, 2, 2)\n",
    "plt.plot(test_data.DateTime[-len(residuals_lstm):], residuals_lstm, label='Residuals', color='orange')\n",
    "plt.title('LSTM Residuals')\n",
    "plt.xlabel('DateTime')\n",
    "plt.ylabel('Residual')\n",
    "plt.legend()\n",
    "\n",
    "plt.tight_layout()\n",
    "plt.show()\n"
   ]
  },
  {
   "cell_type": "markdown",
   "id": "79e675c8-4459-4a07-bce9-ae96c1da8517",
   "metadata": {},
   "source": [
    "Error Distribution Charts"
   ]
  },
  {
   "cell_type": "code",
   "execution_count": 20,
   "id": "3a9cf2de-2a58-4bbc-a6ff-9701e031f5d2",
   "metadata": {},
   "outputs": [
    {
     "data": {
      "image/png": "[encoded data removed]",
      "text/plain": [
       "<Figure size 1400x700 with 2 Axes>"
      ]
     },
     "metadata": {},
     "output_type": "display_data"
    }
   ],
   "source": [
    "plt.figure(figsize=(14, 7))\n",
    "\n",
    "# For ARIMA\n",
    "plt.subplot(1, 2, 1)\n",
    "plt.hist(residuals_arima, bins=50, color='blue', edgecolor='black')\n",
    "plt.title('ARIMA Residuals Distribution')\n",
    "plt.xlabel('Residual')\n",
    "plt.ylabel('Frequency')\n",
    "\n",
    "# For LSTM\n",
    "plt.subplot(1, 2, 2)\n",
    "plt.hist(residuals_lstm, bins=50, color='orange', edgecolor='black')\n",
    "plt.title('LSTM Residuals Distribution')\n",
    "plt.xlabel('Residual')\n",
    "plt.ylabel('Frequency')\n",
    "\n",
    "plt.tight_layout()\n",
    "plt.show()\n"
   ]
  },
  {
   "cell_type": "markdown",
   "id": "1ce49550-d1c8-429f-87aa-10c102690159",
   "metadata": {},
   "source": [
    "From the visualizations, we can further confirm that the LSTM model performed way better and was more accurate than the ARIMA model. \n",
    "\n",
    "A well-performing model should have residuals centered around zero, ideally following a normal distribution. Skewness or heavy tails might indicate areas where the model could be improved. Unlike ARIMA, the LSTM residuals are randomly scattered around zero. This indicates that the model is capturing the patterns in the data effectively without systematic bias.\n",
    "\n",
    "The closer the predicted values are to the actual values, the better the model performance. The LSTM plot showed predicted values closely following the actual values."
   ]
  },
  {
   "cell_type": "markdown",
   "id": "5c047acb-f6eb-4dd4-85d7-2d7e4b59fbf5",
   "metadata": {},
   "source": [
    "## Cross Validation"
   ]
  },
  {
   "cell_type": "code",
   "execution_count": 21,
   "id": "331ff557-f817-4426-9f86-287e1b8dace7",
   "metadata": {},
   "outputs": [],
   "source": [
    "df.set_index('DateTime', inplace=True)"
   ]
  },
  {
   "cell_type": "markdown",
   "id": "df86de9f-5c9f-4af9-af1c-5a1a38b3ac7e",
   "metadata": {},
   "source": [
    "FOR ARIMA"
   ]
  },
  {
   "cell_type": "code",
   "execution_count": 22,
   "id": "6c6232ec-d2d8-4759-b337-ce2b1cb243c8",
   "metadata": {},
   "outputs": [
    {
     "name": "stdout",
     "output_type": "stream",
     "text": [
      "ARIMA Cross-Validation MAE: 0.08912539415893403, RMSE: 0.11980278924126822\n"
     ]
    }
   ],
   "source": [
    "n_splits = 5\n",
    "tscv = TimeSeriesSplit(n_splits=n_splits)\n",
    "\n",
    "mae_scores = []\n",
    "rmse_scores = []\n",
    "\n",
    "for train_index, test_index in tscv.split(df):\n",
    "    train, test = df.iloc[train_index], df.iloc[test_index]\n",
    "    model = ARIMA(train['Vehicles'], order=(5, 1, 0))\n",
    "    model_fit = model.fit()\n",
    "    predictions = model_fit.forecast(steps=len(test))\n",
    "    \n",
    "    mae = mean_absolute_error(test['Vehicles'], predictions)\n",
    "    rmse = np.sqrt(mean_squared_error(test['Vehicles'], predictions))\n",
    "    \n",
    "    mae_scores.append(mae)\n",
    "    rmse_scores.append(rmse)\n",
    "\n",
    "print(f\"ARIMA Cross-Validation MAE: {np.mean(mae_scores)}, RMSE: {np.mean(rmse_scores)}\")"
   ]
  },
  {
   "cell_type": "markdown",
   "id": "ea606dfa-f527-48dc-8403-157461caa64a",
   "metadata": {},
   "source": [
    "FOR LSTM"
   ]
  },
  {
   "cell_type": "code",
   "execution_count": 23,
   "id": "ca723aee-9fbe-46a3-8518-19517f76cc3f",
   "metadata": {},
   "outputs": [],
   "source": [
    "df_lstm = df.drop(columns=['Junction', 'Event_Name', 'Event_Type'])"
   ]
  },
  {
   "cell_type": "code",
   "execution_count": 24,
   "id": "126a01dd-d070-459a-baf6-971d60fbc3f8",
   "metadata": {},
   "outputs": [
    {
     "data": {
      "text/html": [
       "<div>\n",
       "<style scoped>\n",
       "    .dataframe tbody tr th:only-of-type {\n",
       "        vertical-align: middle;\n",
       "    }\n",
       "\n",
       "    .dataframe tbody tr th {\n",
       "        vertical-align: top;\n",
       "    }\n",
       "\n",
       "    .dataframe thead th {\n",
       "        text-align: right;\n",
       "    }\n",
       "</style>\n",
       "<table border=\"1\" class=\"dataframe\">\n",
       "  <thead>\n",
       "    <tr style=\"text-align: right;\">\n",
       "      <th></th>\n",
       "      <th>Vehicles</th>\n",
       "      <th>Hour</th>\n",
       "      <th>Vehicles_previous_hour</th>\n",
       "      <th>Vehicles_previous_2hours</th>\n",
       "      <th>Vehicles_previous_3hours</th>\n",
       "      <th>Vehicles_previous_4hours</th>\n",
       "      <th>Vehicles_previous_5hours</th>\n",
       "      <th>Vehicles_previous_6hours</th>\n",
       "      <th>Vehicles_previous_12hours</th>\n",
       "      <th>Vehicles_previous_day</th>\n",
       "      <th>tempC</th>\n",
       "      <th>precipMM</th>\n",
       "      <th>humidity</th>\n",
       "      <th>windspeedKmph</th>\n",
       "    </tr>\n",
       "    <tr>\n",
       "      <th>DateTime</th>\n",
       "      <th></th>\n",
       "      <th></th>\n",
       "      <th></th>\n",
       "      <th></th>\n",
       "      <th></th>\n",
       "      <th></th>\n",
       "      <th></th>\n",
       "      <th></th>\n",
       "      <th></th>\n",
       "      <th></th>\n",
       "      <th></th>\n",
       "      <th></th>\n",
       "      <th></th>\n",
       "      <th></th>\n",
       "    </tr>\n",
       "  </thead>\n",
       "  <tbody>\n",
       "    <tr>\n",
       "      <th>2015-11-01 00:00:00</th>\n",
       "      <td>0.083333</td>\n",
       "      <td>0</td>\n",
       "      <td>0.000000</td>\n",
       "      <td>0.000000</td>\n",
       "      <td>0.000000</td>\n",
       "      <td>0.000000</td>\n",
       "      <td>0.000000</td>\n",
       "      <td>0.000000</td>\n",
       "      <td>0.000000</td>\n",
       "      <td>0.000000</td>\n",
       "      <td>0.296296</td>\n",
       "      <td>0.0</td>\n",
       "      <td>0.923077</td>\n",
       "      <td>0.205128</td>\n",
       "    </tr>\n",
       "    <tr>\n",
       "      <th>2015-11-01 00:00:00</th>\n",
       "      <td>0.033333</td>\n",
       "      <td>0</td>\n",
       "      <td>0.000000</td>\n",
       "      <td>0.000000</td>\n",
       "      <td>0.000000</td>\n",
       "      <td>0.000000</td>\n",
       "      <td>0.000000</td>\n",
       "      <td>0.000000</td>\n",
       "      <td>0.000000</td>\n",
       "      <td>0.000000</td>\n",
       "      <td>0.296296</td>\n",
       "      <td>0.0</td>\n",
       "      <td>0.923077</td>\n",
       "      <td>0.205128</td>\n",
       "    </tr>\n",
       "    <tr>\n",
       "      <th>2015-11-01 00:00:00</th>\n",
       "      <td>0.050000</td>\n",
       "      <td>0</td>\n",
       "      <td>0.000000</td>\n",
       "      <td>0.000000</td>\n",
       "      <td>0.000000</td>\n",
       "      <td>0.000000</td>\n",
       "      <td>0.000000</td>\n",
       "      <td>0.000000</td>\n",
       "      <td>0.000000</td>\n",
       "      <td>0.000000</td>\n",
       "      <td>0.296296</td>\n",
       "      <td>0.0</td>\n",
       "      <td>0.923077</td>\n",
       "      <td>0.205128</td>\n",
       "    </tr>\n",
       "    <tr>\n",
       "      <th>2015-11-01 00:00:00</th>\n",
       "      <td>0.000000</td>\n",
       "      <td>0</td>\n",
       "      <td>0.000000</td>\n",
       "      <td>0.000000</td>\n",
       "      <td>0.000000</td>\n",
       "      <td>0.000000</td>\n",
       "      <td>0.000000</td>\n",
       "      <td>0.000000</td>\n",
       "      <td>0.000000</td>\n",
       "      <td>0.000000</td>\n",
       "      <td>0.296296</td>\n",
       "      <td>0.0</td>\n",
       "      <td>0.923077</td>\n",
       "      <td>0.205128</td>\n",
       "    </tr>\n",
       "    <tr>\n",
       "      <th>2015-11-01 01:00:00</th>\n",
       "      <td>0.072222</td>\n",
       "      <td>1</td>\n",
       "      <td>0.083333</td>\n",
       "      <td>0.000000</td>\n",
       "      <td>0.000000</td>\n",
       "      <td>0.000000</td>\n",
       "      <td>0.000000</td>\n",
       "      <td>0.000000</td>\n",
       "      <td>0.000000</td>\n",
       "      <td>0.000000</td>\n",
       "      <td>0.296296</td>\n",
       "      <td>0.0</td>\n",
       "      <td>0.934066</td>\n",
       "      <td>0.205128</td>\n",
       "    </tr>\n",
       "    <tr>\n",
       "      <th>...</th>\n",
       "      <td>...</td>\n",
       "      <td>...</td>\n",
       "      <td>...</td>\n",
       "      <td>...</td>\n",
       "      <td>...</td>\n",
       "      <td>...</td>\n",
       "      <td>...</td>\n",
       "      <td>...</td>\n",
       "      <td>...</td>\n",
       "      <td>...</td>\n",
       "      <td>...</td>\n",
       "      <td>...</td>\n",
       "      <td>...</td>\n",
       "      <td>...</td>\n",
       "    </tr>\n",
       "    <tr>\n",
       "      <th>2017-06-30 22:00:00</th>\n",
       "      <td>0.122222</td>\n",
       "      <td>22</td>\n",
       "      <td>0.088889</td>\n",
       "      <td>0.166667</td>\n",
       "      <td>0.061111</td>\n",
       "      <td>0.094444</td>\n",
       "      <td>0.088889</td>\n",
       "      <td>0.088889</td>\n",
       "      <td>0.083333</td>\n",
       "      <td>0.083333</td>\n",
       "      <td>0.370370</td>\n",
       "      <td>0.0</td>\n",
       "      <td>0.758242</td>\n",
       "      <td>0.461538</td>\n",
       "    </tr>\n",
       "    <tr>\n",
       "      <th>2017-06-30 23:00:00</th>\n",
       "      <td>0.433333</td>\n",
       "      <td>23</td>\n",
       "      <td>0.466667</td>\n",
       "      <td>0.500000</td>\n",
       "      <td>0.533333</td>\n",
       "      <td>0.583333</td>\n",
       "      <td>0.527778</td>\n",
       "      <td>0.500000</td>\n",
       "      <td>0.561111</td>\n",
       "      <td>0.527778</td>\n",
       "      <td>0.333333</td>\n",
       "      <td>0.0</td>\n",
       "      <td>0.780220</td>\n",
       "      <td>0.461538</td>\n",
       "    </tr>\n",
       "    <tr>\n",
       "      <th>2017-06-30 23:00:00</th>\n",
       "      <td>0.150000</td>\n",
       "      <td>23</td>\n",
       "      <td>0.161111</td>\n",
       "      <td>0.172222</td>\n",
       "      <td>0.194444</td>\n",
       "      <td>0.188889</td>\n",
       "      <td>0.188889</td>\n",
       "      <td>0.177778</td>\n",
       "      <td>0.155556</td>\n",
       "      <td>0.200000</td>\n",
       "      <td>0.333333</td>\n",
       "      <td>0.0</td>\n",
       "      <td>0.780220</td>\n",
       "      <td>0.461538</td>\n",
       "    </tr>\n",
       "    <tr>\n",
       "      <th>2017-06-30 23:00:00</th>\n",
       "      <td>0.216667</td>\n",
       "      <td>23</td>\n",
       "      <td>0.144444</td>\n",
       "      <td>0.155556</td>\n",
       "      <td>0.172222</td>\n",
       "      <td>0.183333</td>\n",
       "      <td>0.211111</td>\n",
       "      <td>0.200000</td>\n",
       "      <td>0.155556</td>\n",
       "      <td>0.138889</td>\n",
       "      <td>0.333333</td>\n",
       "      <td>0.0</td>\n",
       "      <td>0.780220</td>\n",
       "      <td>0.461538</td>\n",
       "    </tr>\n",
       "    <tr>\n",
       "      <th>2017-06-30 23:00:00</th>\n",
       "      <td>0.066667</td>\n",
       "      <td>23</td>\n",
       "      <td>0.122222</td>\n",
       "      <td>0.088889</td>\n",
       "      <td>0.166667</td>\n",
       "      <td>0.061111</td>\n",
       "      <td>0.094444</td>\n",
       "      <td>0.088889</td>\n",
       "      <td>0.077778</td>\n",
       "      <td>0.061111</td>\n",
       "      <td>0.333333</td>\n",
       "      <td>0.0</td>\n",
       "      <td>0.780220</td>\n",
       "      <td>0.461538</td>\n",
       "    </tr>\n",
       "  </tbody>\n",
       "</table>\n",
       "<p>58368 rows × 14 columns</p>\n",
       "</div>"
      ],
      "text/plain": [
       "                     Vehicles  Hour  Vehicles_previous_hour  \\\n",
       "DateTime                                                      \n",
       "2015-11-01 00:00:00  0.083333     0                0.000000   \n",
       "2015-11-01 00:00:00  0.033333     0                0.000000   \n",
       "2015-11-01 00:00:00  0.050000     0                0.000000   \n",
       "2015-11-01 00:00:00  0.000000     0                0.000000   \n",
       "2015-11-01 01:00:00  0.072222     1                0.083333   \n",
       "...                       ...   ...                     ...   \n",
       "2017-06-30 22:00:00  0.122222    22                0.088889   \n",
       "2017-06-30 23:00:00  0.433333    23                0.466667   \n",
       "2017-06-30 23:00:00  0.150000    23                0.161111   \n",
       "2017-06-30 23:00:00  0.216667    23                0.144444   \n",
       "2017-06-30 23:00:00  0.066667    23                0.122222   \n",
       "\n",
       "                     Vehicles_previous_2hours  Vehicles_previous_3hours  \\\n",
       "DateTime                                                                  \n",
       "2015-11-01 00:00:00                  0.000000                  0.000000   \n",
       "2015-11-01 00:00:00                  0.000000                  0.000000   \n",
       "2015-11-01 00:00:00                  0.000000                  0.000000   \n",
       "2015-11-01 00:00:00                  0.000000                  0.000000   \n",
       "2015-11-01 01:00:00                  0.000000                  0.000000   \n",
       "...                                       ...                       ...   \n",
       "2017-06-30 22:00:00                  0.166667                  0.061111   \n",
       "2017-06-30 23:00:00                  0.500000                  0.533333   \n",
       "2017-06-30 23:00:00                  0.172222                  0.194444   \n",
       "2017-06-30 23:00:00                  0.155556                  0.172222   \n",
       "2017-06-30 23:00:00                  0.088889                  0.166667   \n",
       "\n",
       "                     Vehicles_previous_4hours  Vehicles_previous_5hours  \\\n",
       "DateTime                                                                  \n",
       "2015-11-01 00:00:00                  0.000000                  0.000000   \n",
       "2015-11-01 00:00:00                  0.000000                  0.000000   \n",
       "2015-11-01 00:00:00                  0.000000                  0.000000   \n",
       "2015-11-01 00:00:00                  0.000000                  0.000000   \n",
       "2015-11-01 01:00:00                  0.000000                  0.000000   \n",
       "...                                       ...                       ...   \n",
       "2017-06-30 22:00:00                  0.094444                  0.088889   \n",
       "2017-06-30 23:00:00                  0.583333                  0.527778   \n",
       "2017-06-30 23:00:00                  0.188889                  0.188889   \n",
       "2017-06-30 23:00:00                  0.183333                  0.211111   \n",
       "2017-06-30 23:00:00                  0.061111                  0.094444   \n",
       "\n",
       "                     Vehicles_previous_6hours  Vehicles_previous_12hours  \\\n",
       "DateTime                                                                   \n",
       "2015-11-01 00:00:00                  0.000000                   0.000000   \n",
       "2015-11-01 00:00:00                  0.000000                   0.000000   \n",
       "2015-11-01 00:00:00                  0.000000                   0.000000   \n",
       "2015-11-01 00:00:00                  0.000000                   0.000000   \n",
       "2015-11-01 01:00:00                  0.000000                   0.000000   \n",
       "...                                       ...                        ...   \n",
       "2017-06-30 22:00:00                  0.088889                   0.083333   \n",
       "2017-06-30 23:00:00                  0.500000                   0.561111   \n",
       "2017-06-30 23:00:00                  0.177778                   0.155556   \n",
       "2017-06-30 23:00:00                  0.200000                   0.155556   \n",
       "2017-06-30 23:00:00                  0.088889                   0.077778   \n",
       "\n",
       "                     Vehicles_previous_day     tempC  precipMM  humidity  \\\n",
       "DateTime                                                                   \n",
       "2015-11-01 00:00:00               0.000000  0.296296       0.0  0.923077   \n",
       "2015-11-01 00:00:00               0.000000  0.296296       0.0  0.923077   \n",
       "2015-11-01 00:00:00               0.000000  0.296296       0.0  0.923077   \n",
       "2015-11-01 00:00:00               0.000000  0.296296       0.0  0.923077   \n",
       "2015-11-01 01:00:00               0.000000  0.296296       0.0  0.934066   \n",
       "...                                    ...       ...       ...       ...   \n",
       "2017-06-30 22:00:00               0.083333  0.370370       0.0  0.758242   \n",
       "2017-06-30 23:00:00               0.527778  0.333333       0.0  0.780220   \n",
       "2017-06-30 23:00:00               0.200000  0.333333       0.0  0.780220   \n",
       "2017-06-30 23:00:00               0.138889  0.333333       0.0  0.780220   \n",
       "2017-06-30 23:00:00               0.061111  0.333333       0.0  0.780220   \n",
       "\n",
       "                     windspeedKmph  \n",
       "DateTime                            \n",
       "2015-11-01 00:00:00       0.205128  \n",
       "2015-11-01 00:00:00       0.205128  \n",
       "2015-11-01 00:00:00       0.205128  \n",
       "2015-11-01 00:00:00       0.205128  \n",
       "2015-11-01 01:00:00       0.205128  \n",
       "...                            ...  \n",
       "2017-06-30 22:00:00       0.461538  \n",
       "2017-06-30 23:00:00       0.461538  \n",
       "2017-06-30 23:00:00       0.461538  \n",
       "2017-06-30 23:00:00       0.461538  \n",
       "2017-06-30 23:00:00       0.461538  \n",
       "\n",
       "[58368 rows x 14 columns]"
      ]
     },
     "execution_count": 24,
     "metadata": {},
     "output_type": "execute_result"
    }
   ],
   "source": [
    "df_lstm"
   ]
  },
  {
   "cell_type": "code",
   "execution_count": 25,
   "id": "03ab7681-558b-4313-834e-e6d368eed22c",
   "metadata": {
    "scrolled": true
   },
   "outputs": [],
   "source": [
    "def create_sequences(data, seq_length):\n",
    "    xs, ys = [], []\n",
    "    for i in range(len(data) - seq_length):\n",
    "        x = data[i:i + seq_length]\n",
    "        y = data[i + seq_length, 0]\n",
    "        xs.append(x)\n",
    "        ys.append(y)\n",
    "    return np.array(xs), np.array(ys)\n",
    "\n",
    "seq_length = 24 \n",
    "\n",
    "X, y = create_sequences(df_lstm.values, seq_length)"
   ]
  },
  {
   "cell_type": "code",
   "execution_count": null,
   "id": "51e221ec-8264-4cfc-b1cb-fa4b68b4e381",
   "metadata": {},
   "outputs": [
    {
     "name": "stdout",
     "output_type": "stream",
     "text": [
      "304/304 [==============================] - 3s 8ms/step\n",
      "304/304 [==============================] - 3s 8ms/step\n",
      "304/304 [==============================] - 3s 8ms/step\n",
      "304/304 [==============================] - 3s 8ms/step\n"
     ]
    }
   ],
   "source": [
    "# Time series split for cross-validation\n",
    "n_splits = 5\n",
    "tscv = TimeSeriesSplit(n_splits=n_splits)\n",
    "\n",
    "mae_scores = []\n",
    "rmse_scores = []\n",
    "\n",
    "for train_index, test_index in tscv.split(X):\n",
    "    X_train, X_test = X[train_index], X[test_index]\n",
    "    y_train, y_test = y[train_index], y[test_index]\n",
    "    \n",
    "    # Define the LSTM model\n",
    "    model = Sequential()\n",
    "    model.add(LSTM(best_params['units'], activation='relu', input_shape=(seq_length, X_train.shape[2])))\n",
    "    model.add(Dense(1))\n",
    "    model.compile(optimizer='adam', loss='mse')\n",
    "    \n",
    "    # Train the model\n",
    "    model.fit(X_train, y_train, epochs=best_params['epochs'], batch_size=best_params['batch_size'], verbose=0)\n",
    "    \n",
    "    # Predict\n",
    "    predictions = model.predict(X_test)\n",
    "    \n",
    "    # Calculate metrics\n",
    "    mae = mean_absolute_error(y_test, predictions)\n",
    "    rmse = np.sqrt(mean_squared_error(y_test, predictions))\n",
    "    \n",
    "    mae_scores.append(mae)\n",
    "    rmse_scores.append(rmse)\n",
    "\n",
    "print(f\"LSTM Cross-Validation MAE: {np.mean(mae_scores)}, RMSE: {np.mean(rmse_scores)}\")"
   ]
  },
  {
   "cell_type": "code",
   "execution_count": null,
   "id": "692aeb60-e4ca-4930-9a0c-863ea23d49ad",
   "metadata": {},
   "outputs": [],
   "source": [
    "# Compile results into a dataframe\n",
    "\n",
    "cv_results = pd.DataFrame({\n",
    "    'Fold': range(1, n_splits + 1),\n",
    "    'MAE': mae_scores,\n",
    "    'RMSE': rmse_scores\n",
    "})\n",
    "\n",
    "cv_results"
   ]
  },
  {
   "cell_type": "markdown",
   "id": "9703a2ad-5ea1-4060-9d63-01a576ace783",
   "metadata": {},
   "source": [
    "Lets visualize these findings"
   ]
  },
  {
   "cell_type": "code",
   "execution_count": null,
   "id": "5c883a6c-40cc-49eb-aaad-9e481c82d254",
   "metadata": {},
   "outputs": [],
   "source": [
    "fig, axes = plt.subplots(1, 2, figsize=(14, 6))\n",
    "\n",
    "# MAE Plot\n",
    "axes[0].plot(cv_results['Fold'], cv_results['MAE'], marker='o', linestyle='--')\n",
    "axes[0].set_title('Cross-Validation MAE')\n",
    "axes[0].set_xlabel('Fold')\n",
    "axes[0].set_ylabel('MAE')\n",
    "\n",
    "# RMSE Plot\n",
    "axes[1].plot(cv_results['Fold'], cv_results['RMSE'], marker='o', linestyle='--')\n",
    "axes[1].set_title('Cross-Validation RMSE')\n",
    "axes[1].set_xlabel('Fold')\n",
    "axes[1].set_ylabel('RMSE')\n",
    "\n",
    "plt.tight_layout()\n",
    "plt.show()\n"
   ]
  },
  {
   "cell_type": "markdown",
   "id": "27a7e141-6d9f-4a01-a5a3-91a40cd8eac6",
   "metadata": {},
   "source": [
    "The MAE values are fairly consistent across different folds, ranging from approximately 0.015 to 0.019. This suggests that the model performs reliably across different subsets of data, with only minor variations. The RMSE values also show relatively consistent performance, ranging from approximately 0.023 to 0.027. Similar to MAE, the consistency in RMSE indicates stable model performance across different data folds.\n",
    "\n",
    "Lower MAE values generally indicate that, on average, the model's predictions are closer to the actual values. The best MAE is 0.0151, which is quite good, reflecting relatively accurate predictions on average. RMSE is more sensitive to outliers than MAE due to the squaring of errors. The RMSE values here suggest that while the model performs well overall, there are occasional larger errors, as reflected by the slight increase in RMSE compared to MAE.\n",
    "\n",
    "\n",
    "Both MAE and RMSE show a general pattern of decreasing and then slightly increasing, suggesting that the model's performance might be slightly better in the middle folds but with no drastic improvements or declines.\n",
    "\n",
    "The variance between the best and worst scores is relatively small, which indicates that the model's performance is stable and not highly dependent on the specific data split.\n",
    "\n",
    "Since the model performs consistently across folds, overfitting is less of a concern here. If there was significant overfitting, there would be much lower errors in the training data compared to the cross-validation folds.\n",
    "\n",
    "\n",
    "The model shows consistent and reliable performance across different folds of cross-validation. The errors are reasonably low, indicating that the model effectively predicts traffic congestion levels. The minor fluctuations in MAE and RMSE suggest the model is stable but could still be fine-tuned or improved with additional features or different algorithms. These results reflect a well-performing model that generalizes well to unseen data."
   ]
  },
  {
   "cell_type": "markdown",
   "id": "2d442bc9-7452-43cc-8466-7afd799246c8",
   "metadata": {},
   "source": [
    "## Model Issues"
   ]
  },
  {
   "cell_type": "markdown",
   "id": "ef5dce33-69b7-435c-9f76-1b62663b9a87",
   "metadata": {},
   "source": [
    "Given the consistent MAE and RMSE values across folds, the model appears to be performing stably. \n",
    "\n",
    "The consistency of MAE and RMSE across folds indicates that the model does not exhibit high variance. This suggests that it generalizes well across different data splits"
   ]
  },
  {
   "cell_type": "markdown",
   "id": "b6db114f-8942-4ae1-a6c5-27d6bb77e725",
   "metadata": {},
   "source": [
    "Residual Analysis"
   ]
  },
  {
   "cell_type": "code",
   "execution_count": null,
   "id": "535b5709-d098-41ff-ac94-004049caf66f",
   "metadata": {},
   "outputs": [],
   "source": [
    "predictions = model.predict(X_test)\n",
    "predictions = pd.Series([i[0] for i in predictions.tolist()])\n",
    "residuals = y_test - predictions\n",
    "\n",
    "# Plotting residuals\n",
    "plt.figure(figsize=(12, 6))\n",
    "plt.scatter(predictions, residuals, alpha=0.3)\n",
    "plt.axhline(y=0, color='r', linestyle='--')\n",
    "plt.title('Residuals vs. Predicted Values')\n",
    "plt.xlabel('Predicted Values')\n",
    "plt.ylabel('Residuals')\n",
    "plt.show()"
   ]
  },
  {
   "cell_type": "markdown",
   "id": "62cef7cb-09ce-4ee7-a09e-329fb205b412",
   "metadata": {},
   "source": [
    "The presence of very few outliers implies that most of the predictions are close to the actual values, and there are few significant deviations. This is a positive sign, suggesting that the model is generally accurate.\n",
    "\n",
    "The thick horizontal scatterplot in the residuals plot suggests that the model’s errors are relatively consistent across the range of predicted values. This indicates that the model is making errors of similar magnitude, which could imply that it is not particularly sensitive to the input features' variation.\n"
   ]
  },
  {
   "cell_type": "markdown",
   "id": "7d646aa7-5b7e-4431-9da0-a52079aa24b6",
   "metadata": {},
   "source": [
    "Error Distribution"
   ]
  },
  {
   "cell_type": "code",
   "execution_count": null,
   "id": "5de73a3a-ac43-4d35-b72b-8cad483b2134",
   "metadata": {},
   "outputs": [],
   "source": [
    "plt.figure(figsize=(12, 6))\n",
    "plt.hist(residuals, bins=50, edgecolor='k', alpha=0.7)\n",
    "plt.title('Distribution of Residuals')\n",
    "plt.xlabel('Residual')\n",
    "plt.ylabel('Frequency')\n",
    "plt.show()"
   ]
  },
  {
   "cell_type": "markdown",
   "id": "456b9039-1091-42e7-98f8-3a524e8d4fcb",
   "metadata": {},
   "source": [
    "A normal distribution of errors around zero is generally a good sign and indicates that the model’s predictions are unbiased.\n",
    "\n",
    "Errors centered around zero suggest that the model’s predictions are, on average, accurate. The model doesn’t systematically overestimate or underestimate the traffic congestion levels. This also means that deviations from the actual values are random rather than systematic. This is desirable because it indicates that the model has captured the underlying data patterns well and that deviations are likely due to inherent randomness in the data."
   ]
  },
  {
   "cell_type": "markdown",
   "id": "b3a52e18-b933-4a11-92ea-e897808fd234",
   "metadata": {},
   "source": [
    "Lets analyze errors by time"
   ]
  },
  {
   "cell_type": "code",
   "execution_count": null,
   "id": "2b8c75f8-9274-4548-85c1-b34069ec710f",
   "metadata": {},
   "outputs": [],
   "source": [
    "df_test = pd.DataFrame({\n",
    "    'Actual': y_test,\n",
    "    'Predicted': predictions.values.flatten(),\n",
    "    'Error': residuals,\n",
    "    'Time': df_lstm.index[test_index]\n",
    "})\n",
    "\n",
    "# Plot error over time\n",
    "plt.figure(figsize=(12, 6))\n",
    "plt.plot(df_test['Time'], df_test['Error'])\n",
    "plt.title('Error over Time')\n",
    "plt.xlabel('Time')\n",
    "plt.ylabel('Error')\n",
    "plt.show()\n"
   ]
  },
  {
   "cell_type": "markdown",
   "id": "d79bfaa4-63eb-4472-ac8a-bbc57eceb2c3",
   "metadata": {},
   "source": [
    "Spikes in errors might suggest that there are anomalies or outliers in the data that the model is struggling to handle. These spikes could be related to rare events, data quality issues, or sudden changes in traffic patterns. If the spikes are random and do not correlate with specific time periods or features, they may be due to random noise."
   ]
  },
  {
   "cell_type": "markdown",
   "id": "3f2f60be-b035-4ef9-aadd-e7f464b90389",
   "metadata": {},
   "source": [
    "## Refine Feature Engineering"
   ]
  },
  {
   "cell_type": "markdown",
   "id": "47763802-a6dd-4c2e-8cdb-9e0cd3801aed",
   "metadata": {},
   "source": [
    "Lets add some new features to the data"
   ]
  },
  {
   "cell_type": "code",
   "execution_count": null,
   "id": "6f04b9fc-2436-4cde-9ecd-e29431d10824",
   "metadata": {},
   "outputs": [],
   "source": [
    "df['Day_of_Week'] = df.index.dayofweek\n",
    "df['Month'] = df.index.month\n",
    "df['Hour'] = df.index.hour\n",
    "df['Is_Weekend'] = df.index.dayofweek >= 5\n",
    "df['Is_Peak_Hour'] = df.index.hour.isin([7, 8, 17, 18])\n",
    "\n",
    "df"
   ]
  },
  {
   "cell_type": "code",
   "execution_count": null,
   "id": "8e92e3f4-ab45-4f33-96e8-f3774450d28a",
   "metadata": {},
   "outputs": [],
   "source": [
    "df = df.rename(columns = {'Vehicles_previous_day':'Vehicles_previous_24hours'})"
   ]
  },
  {
   "cell_type": "markdown",
   "id": "1a9fb2e8-abb8-4632-a7f5-5e7eda9bb3c3",
   "metadata": {},
   "source": [
    "Lets calculate rolling statistics to capture trends and variations."
   ]
  },
  {
   "cell_type": "code",
   "execution_count": null,
   "id": "deab9ec9-5758-4d86-860b-821246616794",
   "metadata": {},
   "outputs": [],
   "source": [
    "df['Rolling_Mean_24hours'] = df['Vehicles'].rolling(window=24).mean()\n",
    "df['Rolling_Std_24hours'] = df['Vehicles'].rolling(window=24).std()"
   ]
  },
  {
   "cell_type": "markdown",
   "id": "e534f493-f2bc-4458-879a-71ec66b53d40",
   "metadata": {},
   "source": [
    "Lets create a feature that explores interactions between weather conditions and traffic patterns"
   ]
  },
  {
   "cell_type": "code",
   "execution_count": null,
   "id": "cf94e2da-5904-4425-ac20-fec6054fad38",
   "metadata": {},
   "outputs": [],
   "source": [
    "df['Temp_Humidity_Interaction'] = df['tempC'] * df['humidity']"
   ]
  },
  {
   "cell_type": "markdown",
   "id": "341b60ba-899e-496b-a281-537cc94b735c",
   "metadata": {},
   "source": [
    "Lets create a binary feature indicating whether an event is occurring."
   ]
  },
  {
   "cell_type": "code",
   "execution_count": null,
   "id": "77d7eabd-f598-402d-9ee8-ea9c65c7bb4e",
   "metadata": {},
   "outputs": [],
   "source": [
    "df['Event_Present'] = df['Event_Name'].apply(lambda x: 1 if x != 'No events' else 0)"
   ]
  },
  {
   "cell_type": "markdown",
   "id": "06e2b126-e50f-447f-be99-189c071944af",
   "metadata": {},
   "source": [
    "Lets drop the events_name and type columns"
   ]
  },
  {
   "cell_type": "code",
   "execution_count": null,
   "id": "b966976d-fde7-4584-87b2-ff65823648df",
   "metadata": {},
   "outputs": [],
   "source": [
    "df = df.drop(columns = ['Event_Name', 'Event_Type'])"
   ]
  },
  {
   "cell_type": "code",
   "execution_count": null,
   "id": "f530487b-0c96-4d4d-8278-bbb5ae96d785",
   "metadata": {},
   "outputs": [],
   "source": [
    "df.info()"
   ]
  },
  {
   "cell_type": "code",
   "execution_count": null,
   "id": "ccd72160-79a9-4814-a096-caea9c48c355",
   "metadata": {},
   "outputs": [],
   "source": [
    "df.corr()"
   ]
  },
  {
   "cell_type": "code",
   "execution_count": null,
   "id": "1a5b06c9-56ee-4f29-97bc-24935a1e4a61",
   "metadata": {},
   "outputs": [],
   "source": [
    "correlation_matrix = df.corr().abs().round(2)\n",
    "\n",
    "correlation_matrix"
   ]
  },
  {
   "cell_type": "code",
   "execution_count": null,
   "id": "02ec1ffd-32c5-42fa-874a-73a583e02c88",
   "metadata": {},
   "outputs": [],
   "source": [
    "plt.figure(figsize=(10, 8))\n",
    "sns.heatmap(correlation_matrix, annot=True, cmap='coolwarm')\n",
    "plt.title('Correlation Matrix')\n",
    "plt.show()"
   ]
  },
  {
   "cell_type": "markdown",
   "id": "3afe7c53-afaa-4e2e-bf45-113692db0784",
   "metadata": {},
   "source": [
    "Most of the new features we created have very low correlation with the number of vehicles at a junction."
   ]
  },
  {
   "cell_type": "markdown",
   "id": "cc368f8f-f750-43c0-b795-f1d7211b32c0",
   "metadata": {},
   "source": [
    "Assess Feature Importance using Tree-Based Models"
   ]
  },
  {
   "cell_type": "code",
   "execution_count": null,
   "id": "acc012b5-843d-42d6-b601-68cba2476caa",
   "metadata": {},
   "outputs": [],
   "source": [
    "X = df.drop(columns=['Vehicles']) \n",
    "y = df['Vehicles']  \n",
    "\n",
    "train_size = int(len(df) * 0.8)\n",
    "\n",
    "X_train, X_test = X.iloc[:train_size], X.iloc[train_size:]\n",
    "y_train, y_test = y.iloc[:train_size], y.iloc[train_size:]"
   ]
  },
  {
   "cell_type": "code",
   "execution_count": null,
   "id": "a044700e-9f84-4061-9dda-f66694caee06",
   "metadata": {},
   "outputs": [],
   "source": [
    "model = RandomForestRegressor(n_estimators=100, random_state=42)\n",
    "model.fit(X_train, y_train)"
   ]
  },
  {
   "cell_type": "code",
   "execution_count": null,
   "id": "d8ca51cc-681d-498a-bfd0-97f91df3a9e7",
   "metadata": {},
   "outputs": [],
   "source": [
    "feature_importances = model.feature_importances_\n",
    "\n",
    "# Create a DataFrame for easy visualization\n",
    "feature_importance_df = pd.DataFrame({\n",
    "    'Feature': X_train.columns,\n",
    "    'Importance': feature_importances\n",
    "}).sort_values(by='Importance', ascending=False)\n",
    "\n",
    "feature_importance_df.reset_index(drop=True)"
   ]
  },
  {
   "cell_type": "markdown",
   "id": "85937bcd-abf4-4731-87d7-fb1244bc9479",
   "metadata": {},
   "source": [
    "From feature importance analysis, we can see that Peak hours contributes least to the number of vehicles at a junction. This is also true for events, day of week, weekends, precipitation and the the month. We will drop the 7 least useful features"
   ]
  },
  {
   "cell_type": "code",
   "execution_count": null,
   "id": "472c8989-56e8-4e30-a8f4-42d315576596",
   "metadata": {},
   "outputs": [],
   "source": [
    "df = df.drop(columns = ['Is_Peak_Hour', 'Event_Present', 'Is_Weekend', 'precipMM', 'Month', 'windspeedKmph', 'Day_of_Week'])"
   ]
  },
  {
   "cell_type": "markdown",
   "id": "fd221286-028a-4e0e-8c03-6645f9b30088",
   "metadata": {},
   "source": [
    "Lets split the data into training and testing sets"
   ]
  },
  {
   "cell_type": "code",
   "execution_count": null,
   "id": "5bb2e0f6-3a30-4ba8-868f-74458387f0cb",
   "metadata": {},
   "outputs": [],
   "source": [
    "X = df.drop(columns=['Vehicles'])\n",
    "y = df['Vehicles']\n",
    "\n",
    "X_train, X_test, y_train, y_test = train_test_split(X, y, test_size=0.2, shuffle=False)"
   ]
  },
  {
   "cell_type": "markdown",
   "id": "c42fa041-416c-44c2-99a5-58c7819f8bee",
   "metadata": {},
   "source": [
    "Combining Random Forest and XGBoost into an ensemble model can be an effective way to leverage the strengths of both algorithms. Lets do that."
   ]
  },
  {
   "cell_type": "markdown",
   "id": "1369d0a3-2748-4e0d-84d7-60a57b5240a6",
   "metadata": {},
   "source": [
    "Random Forest"
   ]
  },
  {
   "cell_type": "markdown",
   "id": "9721c02e-e69d-4fef-bc77-f3c20812dd60",
   "metadata": {},
   "source": [
    "Grid Search for Random Forest"
   ]
  },
  {
   "cell_type": "code",
   "execution_count": null,
   "id": "362feb21-7f39-417b-81e8-85183a945a0c",
   "metadata": {},
   "outputs": [],
   "source": [
    "param_grid_rf = {\n",
    "    'n_estimators': [50, 100, 200],\n",
    "    'max_depth': [None, 10, 20, 30],\n",
    "    'min_samples_split': [2, 5, 10],\n",
    "    'min_samples_leaf': [1, 2, 4]\n",
    "}"
   ]
  },
  {
   "cell_type": "markdown",
   "id": "1cc25bb2-4378-427e-93a2-788edd64ee19",
   "metadata": {},
   "source": [
    "Initialize and Fit Grid Search"
   ]
  },
  {
   "cell_type": "code",
   "execution_count": null,
   "id": "3a23f5e0-dfa4-4977-aa60-328bc05a97f9",
   "metadata": {},
   "outputs": [],
   "source": [
    "# Initialize the Random Forest Regressor\n",
    "rf_model = RandomForestRegressor(random_state=42)\n",
    "\n",
    "# Initialize GridSearchCV\n",
    "grid_search_rf = GridSearchCV(\n",
    "    estimator=rf_model,\n",
    "    param_grid=param_grid_rf,\n",
    "    scoring='neg_mean_squared_error',\n",
    "    cv=5,\n",
    "    n_jobs=-1,\n",
    "    verbose=2\n",
    ")\n",
    "\n",
    "# Fit Grid Search\n",
    "grid_search_rf.fit(X_train, y_train)\n",
    "\n",
    "rf_best_params = grid_search_rf.best_params_\n",
    "\n",
    "# Best Parameters and Score\n",
    "print(\"Best Parameters for Random Forest:\", grid_search_rf.best_params_)"
   ]
  },
  {
   "cell_type": "code",
   "execution_count": null,
   "id": "76c788d7-df19-4fa1-8984-b40b83fcec5e",
   "metadata": {},
   "outputs": [],
   "source": [
    "best_rf_model = RandomForestRegressor(\n",
    "    max_depth=rf_best_params['max_depth'],\n",
    "    min_samples_leaf=rf_best_params['min_samples_leaf'],\n",
    "    min_samples_split=rf_best_params['min_samples_split'],\n",
    "    n_estimators=rf_best_params['n_estimators'],\n",
    "    random_state=42\n",
    ")\n",
    "\n",
    "best_rf_model.fit(X_train, y_train)"
   ]
  },
  {
   "cell_type": "code",
   "execution_count": null,
   "id": "766f35d2-65a2-45e2-bc0c-4b2bab4aeeac",
   "metadata": {},
   "outputs": [],
   "source": [
    "y_pred_rf = best_rf_model.predict(X_test)"
   ]
  },
  {
   "cell_type": "markdown",
   "id": "70420628-bcac-4240-b88f-f64fca72c5e4",
   "metadata": {},
   "source": [
    "XGBOOST"
   ]
  },
  {
   "cell_type": "markdown",
   "id": "2ab30667-2e13-44d8-8226-0678a68a10cb",
   "metadata": {},
   "source": [
    "Define the parameter grid for XGBoost"
   ]
  },
  {
   "cell_type": "code",
   "execution_count": null,
   "id": "492414f8-7f82-448a-8c85-19961669f611",
   "metadata": {},
   "outputs": [],
   "source": [
    "param_grid_xgb = {\n",
    "    'n_estimators': [50, 100, 200],\n",
    "    'learning_rate': [0.01, 0.1, 0.2],\n",
    "    'max_depth': [3, 6, 10],\n",
    "    'subsample': [0.8, 1.0],\n",
    "    'colsample_bytree': [0.8, 1.0]\n",
    "}\n"
   ]
  },
  {
   "cell_type": "markdown",
   "id": "3f3d895f-f210-4a12-b812-d6602414ba94",
   "metadata": {},
   "source": [
    "Initialize the XGBoost Regressor"
   ]
  },
  {
   "cell_type": "code",
   "execution_count": null,
   "id": "fa0d4b56-cd1e-457c-b133-bb0f242f2800",
   "metadata": {},
   "outputs": [],
   "source": [
    "xgb_model = XGBRegressor(random_state=42)\n",
    "\n",
    "# Initialize GridSearchCV\n",
    "grid_search_xgb = GridSearchCV(\n",
    "    estimator=xgb_model,\n",
    "    param_grid=param_grid_xgb,\n",
    "    scoring='neg_mean_squared_error',\n",
    "    cv=5,\n",
    "    n_jobs=-1,\n",
    "    verbose=2\n",
    ")\n",
    "\n",
    "# Fit Grid Search\n",
    "grid_search_xgb.fit(X_train, y_train)\n",
    "\n",
    "xgb_best_params = grid_search_xgb.best_params_\n",
    "\n",
    "# Best Parameters and Score\n",
    "print(\"Best Parameters for XGBoost:\", xgb_best_params)"
   ]
  },
  {
   "cell_type": "code",
   "execution_count": null,
   "id": "20a85898-3f24-4fa7-b10e-b3fb7d2f390a",
   "metadata": {},
   "outputs": [],
   "source": [
    "best_xgb_model = XGBRegressor(\n",
    "    max_depth=xgb_best_params['max_depth'],\n",
    "    learning_rate=xgb_best_params['learning_rate'],  \n",
    "    n_estimators=xgb_best_params['n_estimators'],\n",
    "    colsample_bytree=xgb_best_params['colsample_bytree'],  \n",
    "    subsample=xgb_best_params['subsample'],\n",
    "    random_state=42\n",
    ")\n",
    "\n",
    "best_xgb_model.fit(X_train, y_train)\n",
    "\n",
    "y_pred_xgb = best_xgb_model.predict(X_test)"
   ]
  },
  {
   "cell_type": "markdown",
   "id": "f63c16ba-e9db-49a3-b985-e1604f28cc4a",
   "metadata": {},
   "source": [
    "Get the average prediction of the two models"
   ]
  },
  {
   "cell_type": "code",
   "execution_count": null,
   "id": "6b934305-61b3-40bb-a86f-c0c2015e9a1f",
   "metadata": {},
   "outputs": [],
   "source": [
    "y_pred_ensemble_avg = (y_pred_rf + y_pred_xgb) / 2"
   ]
  },
  {
   "cell_type": "markdown",
   "id": "fc52a73d-0fe7-4aa2-8f2d-bb3b05204dd1",
   "metadata": {},
   "source": [
    "Lets evaluate the ensemble"
   ]
  },
  {
   "cell_type": "code",
   "execution_count": null,
   "id": "d65487bc-f1c8-4701-bdd3-1f291bf8364d",
   "metadata": {},
   "outputs": [],
   "source": [
    "mae_ensemble_avg = mean_absolute_error(y_test, y_pred_ensemble_avg)\n",
    "rmse_ensemble_avg = mean_squared_error(y_test, y_pred_ensemble_avg, squared=False)\n",
    "\n",
    "print(f'Ensemble (Averaging) MAE: {mae_ensemble_avg}')\n",
    "print(f'Ensemble (Averaging) RMSE: {rmse_ensemble_avg}')"
   ]
  },
  {
   "cell_type": "markdown",
   "id": "7732b68b-1994-4b93-a190-64154028c1ea",
   "metadata": {},
   "source": [
    "VISUALIZATION"
   ]
  },
  {
   "cell_type": "markdown",
   "id": "f9e7d468-ce45-437a-a654-6e28db37daec",
   "metadata": {},
   "source": [
    "To visualize the performance of the ensemble models, let's plot the actual vs. predicted values over time."
   ]
  },
  {
   "cell_type": "code",
   "execution_count": null,
   "id": "0b3e2c86-3d75-4a67-8927-f62ad0a81c81",
   "metadata": {},
   "outputs": [],
   "source": [
    "results_df_ensemble = pd.DataFrame({\n",
    "    'Actual': y_test,\n",
    "    'Predicted_Ensemble_Avg': y_pred_ensemble_avg,\n",
    "}).reset_index().sort_values(by='DateTime')\n",
    "\n",
    "results_df_ensemble.head()"
   ]
  },
  {
   "cell_type": "code",
   "execution_count": null,
   "id": "51263182-9f8a-4ced-a216-4299608ca39d",
   "metadata": {},
   "outputs": [],
   "source": [
    "plt.figure(figsize=(14, 7))\n",
    "plt.plot(results_df_ensemble['DateTime'], results_df_ensemble['Actual'], label='Actual', color='blue')\n",
    "plt.plot(results_df_ensemble['DateTime'], results_df_ensemble['Predicted_Ensemble_Avg'], label='Predicted Ensemble (Averaging)', color='purple', linestyle='--')\n",
    "plt.xlabel('DateTime')\n",
    "plt.ylabel('Traffic Congestion')\n",
    "plt.title('Actual vs. Predicted Traffic Congestion Over Time')\n",
    "plt.legend()\n",
    "plt.xticks(rotation=45)\n",
    "plt.tight_layout()\n",
    "plt.show()"
   ]
  },
  {
   "cell_type": "markdown",
   "id": "f77580a2-8d67-4159-b2f1-d5c26b9df91b",
   "metadata": {},
   "source": [
    "The ensemble model using simple averaging shows promising results with an MAE of 0.0166 and an RMSE of 0.0259. These metrics indicate that the ensemble model is performing well, likely better than the earlier LSTM models.\n",
    "\n",
    "An MAE of 0.0166 suggests that, on average, the ensemble model's predictions are off by about 0.0166 units. This low value indicates high accuracy.\n",
    "An RMSE of 0.0259 indicates that the standard deviation of the prediction errors is low, further confirming the model's accuracy.\n"
   ]
  },
  {
   "cell_type": "code",
   "execution_count": null,
   "id": "c4897133-20f0-400c-a962-abe41f3751e8",
   "metadata": {},
   "outputs": [],
   "source": []
  },
  {
   "cell_type": "code",
   "execution_count": null,
   "id": "e98196be-8f16-4708-9ba7-47f1d1d9057b",
   "metadata": {},
   "outputs": [],
   "source": []
  },
  {
   "cell_type": "code",
   "execution_count": null,
   "id": "daa87670-4420-454b-be17-464d437d9188",
   "metadata": {},
   "outputs": [],
   "source": []
  }
 ],
 "metadata": {
  "kernelspec": {
   "display_name": "Python 3 (ipykernel)",
   "language": "python",
   "name": "python3"
  },
  "language_info": {
   "codemirror_mode": {
    "name": "ipython",
    "version": 3
   },
   "file_extension": ".py",
   "mimetype": "text/x-python",
   "name": "python",
   "nbconvert_exporter": "python",
   "pygments_lexer": "ipython3",
   "version": "3.11.7"
  }
 },
 "nbformat": 4,
 "nbformat_minor": 5
}
